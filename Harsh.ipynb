{
  "nbformat": 4,
  "nbformat_minor": 0,
  "metadata": {
    "colab": {
      "provenance": [],
      "toc_visible": true
    },
    "kernelspec": {
      "name": "python3",
      "display_name": "Python 3"
    },
    "language_info": {
      "name": "python"
    }
  },
  "cells": [
    {
      "cell_type": "markdown",
      "source": [
        "page-1\n"
      ],
      "metadata": {
        "id": "IR5csyvINMI8"
      }
    },
    {
      "cell_type": "code",
      "execution_count": 73,
      "metadata": {
        "id": "-X_gCaXDNJ61"
      },
      "outputs": [],
      "source": [
        "page1 = open(\"/content/Page1.txt\", \"r\")"
      ]
    },
    {
      "cell_type": "code",
      "source": [
        "page1_content=page1.read()"
      ],
      "metadata": {
        "id": "bjunCh0HNRI3"
      },
      "execution_count": 74,
      "outputs": []
    },
    {
      "cell_type": "code",
      "source": [
        "#page1_content"
      ],
      "metadata": {
        "id": "eTzR0iCYNRKX"
      },
      "execution_count": 75,
      "outputs": []
    },
    {
      "cell_type": "code",
      "source": [
        "words = list(filter(lambda word: not any(char.isdigit()\n",
        "                                         for char in word), page1_content.split()))"
      ],
      "metadata": {
        "id": "Q30kuKbfNRMS"
      },
      "execution_count": 76,
      "outputs": []
    },
    {
      "cell_type": "code",
      "source": [
        "#words"
      ],
      "metadata": {
        "id": "b4zkAIYpNRPf"
      },
      "execution_count": 77,
      "outputs": []
    },
    {
      "cell_type": "code",
      "source": [
        "len(words)"
      ],
      "metadata": {
        "colab": {
          "base_uri": "https://localhost:8080/"
        },
        "id": "KNG_gUXFO3Qv",
        "outputId": "44e17350-0b91-4cf8-cf72-60ff7fa4d2f5"
      },
      "execution_count": 78,
      "outputs": [
        {
          "output_type": "execute_result",
          "data": {
            "text/plain": [
              "273"
            ]
          },
          "metadata": {},
          "execution_count": 78
        }
      ]
    },
    {
      "cell_type": "code",
      "source": [
        "page1_word = [*set(words)]"
      ],
      "metadata": {
        "id": "ymrZacoWO3Tj"
      },
      "execution_count": 79,
      "outputs": []
    },
    {
      "cell_type": "code",
      "source": [
        "len(page1_word)"
      ],
      "metadata": {
        "colab": {
          "base_uri": "https://localhost:8080/"
        },
        "id": "sg4L6_sNO3e8",
        "outputId": "62fcbb83-915f-4ddf-a8a2-1cf4b1976276"
      },
      "execution_count": 80,
      "outputs": [
        {
          "output_type": "execute_result",
          "data": {
            "text/plain": [
              "160"
            ]
          },
          "metadata": {},
          "execution_count": 80
        }
      ]
    },
    {
      "cell_type": "code",
      "source": [
        "#page1_word"
      ],
      "metadata": {
        "id": "8i26NvuHO-YJ"
      },
      "execution_count": 81,
      "outputs": []
    },
    {
      "cell_type": "code",
      "source": [
        "import string\n",
        "l1 = [''.join(char for char in item\n",
        "                    if char not in string.punctuation)\n",
        "            for item in page1_word]\n",
        "#l1:page1_final_word"
      ],
      "metadata": {
        "id": "M3wzYIfEO-aN"
      },
      "execution_count": 82,
      "outputs": []
    },
    {
      "cell_type": "code",
      "source": [
        "l1=[x.lower() for x in l1]"
      ],
      "metadata": {
        "id": "j1fhFPvlO-cp"
      },
      "execution_count": 83,
      "outputs": []
    },
    {
      "cell_type": "markdown",
      "source": [
        "Page-2"
      ],
      "metadata": {
        "id": "b_hxHo-LPmdD"
      }
    },
    {
      "cell_type": "code",
      "source": [
        "page2 = open(\"/content/Page2.txt\", \"r\")"
      ],
      "metadata": {
        "id": "Ut1LDEhoPpwx"
      },
      "execution_count": 84,
      "outputs": []
    },
    {
      "cell_type": "code",
      "source": [
        "page2_content=page2.read()"
      ],
      "metadata": {
        "id": "dZG9lT6BPqGd"
      },
      "execution_count": 85,
      "outputs": []
    },
    {
      "cell_type": "code",
      "source": [
        "#page2_content"
      ],
      "metadata": {
        "id": "EBXcHzo-PqJR"
      },
      "execution_count": 86,
      "outputs": []
    },
    {
      "cell_type": "code",
      "source": [
        "words = list(filter(lambda word: not any(char.isdigit()\n",
        "                                         for char in word), page2_content.split()))"
      ],
      "metadata": {
        "id": "vR8t6OVePqT8"
      },
      "execution_count": 87,
      "outputs": []
    },
    {
      "cell_type": "code",
      "source": [
        "#words"
      ],
      "metadata": {
        "id": "dRKQL9s_P4vp"
      },
      "execution_count": 88,
      "outputs": []
    },
    {
      "cell_type": "code",
      "source": [
        "len(words)"
      ],
      "metadata": {
        "colab": {
          "base_uri": "https://localhost:8080/"
        },
        "id": "zdlMa13zP4yZ",
        "outputId": "c00bb2ed-1a80-4c7b-e232-15a7579952cc"
      },
      "execution_count": 89,
      "outputs": [
        {
          "output_type": "execute_result",
          "data": {
            "text/plain": [
              "214"
            ]
          },
          "metadata": {},
          "execution_count": 89
        }
      ]
    },
    {
      "cell_type": "code",
      "source": [
        "page2_word = [*set(words)]"
      ],
      "metadata": {
        "id": "XAvNYd_MQARd"
      },
      "execution_count": 90,
      "outputs": []
    },
    {
      "cell_type": "code",
      "source": [
        "len(page2_word)"
      ],
      "metadata": {
        "colab": {
          "base_uri": "https://localhost:8080/"
        },
        "id": "mQdx5QJFQATb",
        "outputId": "330d4c96-b45b-4fc9-cedd-3a8a06648a94"
      },
      "execution_count": 91,
      "outputs": [
        {
          "output_type": "execute_result",
          "data": {
            "text/plain": [
              "134"
            ]
          },
          "metadata": {},
          "execution_count": 91
        }
      ]
    },
    {
      "cell_type": "code",
      "source": [
        "#page2_word"
      ],
      "metadata": {
        "id": "P45LwlAcQAVK"
      },
      "execution_count": 92,
      "outputs": []
    },
    {
      "cell_type": "code",
      "source": [
        "import string\n",
        "l2 = [''.join(char for char in item\n",
        "                    if char not in string.punctuation)\n",
        "            for item in page2_word]\n",
        "#l2:page2_final_word"
      ],
      "metadata": {
        "id": "tklEZULSQAXU"
      },
      "execution_count": 93,
      "outputs": []
    },
    {
      "cell_type": "code",
      "source": [
        "l2=[x.lower() for x in l2]"
      ],
      "metadata": {
        "id": "L5_hItwuQJl8"
      },
      "execution_count": 94,
      "outputs": []
    },
    {
      "cell_type": "markdown",
      "source": [
        "Page-3\n"
      ],
      "metadata": {
        "id": "DKpeFZv5QNdL"
      }
    },
    {
      "cell_type": "code",
      "source": [
        "page3 = open(\"/content/Page3.txt\", \"r\")"
      ],
      "metadata": {
        "id": "eCofGQnxQP_3"
      },
      "execution_count": 95,
      "outputs": []
    },
    {
      "cell_type": "code",
      "source": [
        "page3_content=page3.read()"
      ],
      "metadata": {
        "id": "f7L1mhNYQQB1"
      },
      "execution_count": 96,
      "outputs": []
    },
    {
      "cell_type": "code",
      "source": [
        "#page3_content"
      ],
      "metadata": {
        "id": "B0A3_kL0QQEu"
      },
      "execution_count": 97,
      "outputs": []
    },
    {
      "cell_type": "code",
      "source": [
        "words = list(filter(lambda word: not any(char.isdigit()\n",
        "                                         for char in word), page3_content.split()))\n"
      ],
      "metadata": {
        "id": "Ejya8BmGQQVE"
      },
      "execution_count": 98,
      "outputs": []
    },
    {
      "cell_type": "code",
      "source": [
        "#words"
      ],
      "metadata": {
        "id": "PfUgks9VQQgL"
      },
      "execution_count": 99,
      "outputs": []
    },
    {
      "cell_type": "code",
      "source": [
        "len(words)"
      ],
      "metadata": {
        "colab": {
          "base_uri": "https://localhost:8080/"
        },
        "id": "OoZSaIKXQQjJ",
        "outputId": "8a8f01ce-df5e-4e67-eb27-ebbefcb4279c"
      },
      "execution_count": 100,
      "outputs": [
        {
          "output_type": "execute_result",
          "data": {
            "text/plain": [
              "375"
            ]
          },
          "metadata": {},
          "execution_count": 100
        }
      ]
    },
    {
      "cell_type": "code",
      "source": [
        "page3_word = [*set(words)]"
      ],
      "metadata": {
        "id": "6ztysGwwQvmx"
      },
      "execution_count": 101,
      "outputs": []
    },
    {
      "cell_type": "code",
      "source": [
        "len(page3_word)"
      ],
      "metadata": {
        "colab": {
          "base_uri": "https://localhost:8080/"
        },
        "id": "30u86fiWQvpn",
        "outputId": "f28504a2-8bbe-497c-8316-d16318323550"
      },
      "execution_count": 102,
      "outputs": [
        {
          "output_type": "execute_result",
          "data": {
            "text/plain": [
              "202"
            ]
          },
          "metadata": {},
          "execution_count": 102
        }
      ]
    },
    {
      "cell_type": "code",
      "source": [
        "#page3_word"
      ],
      "metadata": {
        "id": "PlCITj-rQ1_s"
      },
      "execution_count": 103,
      "outputs": []
    },
    {
      "cell_type": "code",
      "source": [
        "import string\n",
        "l3 = [''.join(char for char in item\n",
        "                    if char not in string.punctuation)\n",
        "            for item in page3_word]\n",
        "#l3:page3_final_word"
      ],
      "metadata": {
        "id": "8VZdhQ_cQ3u9"
      },
      "execution_count": 104,
      "outputs": []
    },
    {
      "cell_type": "code",
      "source": [
        "l3=[x.lower() for x in l3]"
      ],
      "metadata": {
        "id": "1RHx5hpEQ3xx"
      },
      "execution_count": 105,
      "outputs": []
    },
    {
      "cell_type": "markdown",
      "source": [
        "Other Modifications"
      ],
      "metadata": {
        "id": "G2nFnbOhQ_15"
      }
    },
    {
      "cell_type": "code",
      "source": [
        "d={}"
      ],
      "metadata": {
        "id": "zpwIBYqmREuT"
      },
      "execution_count": 106,
      "outputs": []
    },
    {
      "cell_type": "code",
      "source": [
        "h1=1\n",
        "h2=2\n",
        "h3=3\n",
        "def check_l2(j):\n",
        "    p=0\n",
        "    for x in l2:\n",
        "      if x == j:\n",
        "        p=1\n",
        "        l2.remove(j)\n",
        "        break\n",
        "    return p\n",
        "\n",
        "def check_l3(k):\n",
        "    h=0\n",
        "    for y in l3:\n",
        "      if y == k:\n",
        "        h=1\n",
        "        l3.remove(k)\n",
        "        break\n",
        "    return h\n",
        "for i in l1:\n",
        "    l2_ret=check_l2(i)\n",
        "    l3_ret=check_l3(i)\n",
        "\n",
        "    if l2_ret==1 and l3_ret==1:  #here all page\n",
        "      #print(i,end=':')\n",
        "      #print(h1,h2,h3,sep=',')\n",
        "      new_data={i:[h1,h2,h3]}\n",
        "      d.update(new_data)\n",
        "\n",
        "    elif l2_ret==1: #here page-1 and page-2\n",
        "      #print(i,end=':')\n",
        "      #print(h1,h2,sep=',')\n",
        "      new_data={i:[h1,h2]}\n",
        "      d.update(new_data)\n",
        "\n",
        "    elif l3_ret==1: #here page-1 and page-3\n",
        "      #print(i,end=':')\n",
        "      #print(h1,h3,sep=',')\n",
        "      new_data={i:[h1,h3]}\n",
        "      d.update(new_data)\n",
        "\n",
        "\n",
        "    elif l2_ret==0 and l3_ret==0:  #here only page-1\n",
        "      #print(i,end=':')\n",
        "      #print(h1)\n",
        "      new_data={i:[h1]}\n",
        "      d.update(new_data)\n",
        "\n",
        "for i in l2:\n",
        "  l3_ret=check_l3(i)\n",
        "\n",
        "  if l3_ret == 1: #here page-2 and page-3\n",
        "    #print(i,end=':')\n",
        "    #print(h2,h3,sep=',')\n",
        "    new_data={i:[h2,h3]}\n",
        "    d.update(new_data)\n",
        "\n",
        "  elif l3_ret == 0: #here page-2\n",
        "    #print(i,end=':')\n",
        "    #print(h2)\n",
        "    new_data={i:[h2]}\n",
        "    d.update(new_data)\n",
        "\n",
        "for i in l3: #here remaning page-3\n",
        "  #print(i,end=':')\n",
        "  #print(h3)\n",
        "  new_data={i:[h3]}\n",
        "  d.update(new_data)\n",
        ""
      ],
      "metadata": {
        "id": "lclCn56-RExB"
      },
      "execution_count": 107,
      "outputs": []
    },
    {
      "cell_type": "markdown",
      "source": [
        "Output"
      ],
      "metadata": {
        "id": "fubNt5FwUcfk"
      }
    },
    {
      "cell_type": "code",
      "source": [
        "print(\"Word : Page Number\")\n",
        "print(\"-------------------\")\n",
        "for i in sorted(d):\n",
        "   print(i,end=' : ')\n",
        "   print(*d[i],sep=',')"
      ],
      "metadata": {
        "colab": {
          "base_uri": "https://localhost:8080/"
        },
        "id": "VIQB1jJ2Rs5z",
        "outputId": "0fb1eeb8-3491-4e31-e872-b84e129ab6f8"
      },
      "execution_count": 108,
      "outputs": [
        {
          "output_type": "stream",
          "name": "stdout",
          "text": [
            "Word : Page Number\n",
            "-------------------\n",
            " : 3\n",
            "a : 3\n",
            "about : 2\n",
            "access : 2,3\n",
            "across : 1\n",
            "add : 2,3\n",
            "admin : 1\n",
            "administration : 1\n",
            "administrative : 3\n",
            "administrators : 3\n",
            "all : 3\n",
            "allowing : 3\n",
            "an : 1\n",
            "and : 1,2\n",
            "any : 2\n",
            "apples : 1,3\n",
            "applications : 1\n",
            "appropriate : 3\n",
            "architecture : 1\n",
            "are : 2,3\n",
            "as : 1,3\n",
            "attaining : 1\n",
            "authenticated : 1,3\n",
            "authentication : 3\n",
            "availability : 3\n",
            "available : 3\n",
            "backup : 1\n",
            "based : 2,3\n",
            "be : 2,3\n",
            "become : 1\n",
            "bedework : 2\n",
            "bedeworks : 2\n",
            "been : 1,2\n",
            "belong : 3\n",
            "below : 2\n",
            "between : 1,3\n",
            "both : 1\n",
            "built : 1\n",
            "but : 2\n",
            "by : 1,2,3\n",
            "caching : 3\n",
            "caldav : 1,2,3\n",
            "calendar : 3\n",
            "calendaring : 1\n",
            "calendars : 1,2,3\n",
            "called : 1\n",
            "can : 2,3\n",
            "capable : 1,2\n",
            "carddav : 1\n",
            "carried : 3\n",
            "central : 1\n",
            "changed : 2\n",
            "chapter : 1\n",
            "chapters : 2\n",
            "choose : 1\n",
            "client : 1\n",
            "clients : 2\n",
            "clustered : 3\n",
            "comes : 3\n",
            "commandline : 1\n",
            "commercial : 1\n",
            "community : 1,2,3\n",
            "compile : 2\n",
            "completely : 2\n",
            "compliance : 2\n",
            "components : 1\n",
            "configuring : 1\n",
            "conform : 1\n",
            "consists : 1\n",
            "contacts : 1\n",
            "contents : 1,3\n",
            "control : 3\n",
            "core : 1,2,3\n",
            "current : 1\n",
            "currently : 2\n",
            "custom : 3\n",
            "customizable : 3\n",
            "customization : 3\n",
            "customized : 3\n",
            "database : 3\n",
            "degree : 3\n",
            "deploy : 1\n",
            "deployed : 1\n",
            "design : 2\n",
            "designed : 1\n",
            "desktop : 1,3\n",
            "devices : 3\n",
            "display : 1\n",
            "displayed : 3\n",
            "displays : 3\n",
            "divided : 2\n",
            "draft : 2\n",
            "dumprestore : 1\n",
            "easily : 3\n",
            "edit : 3\n",
            "education : 1\n",
            "embedding : 1\n",
            "emphasis : 1\n",
            "engine : 1\n",
            "entering : 1\n",
            "enterprise : 1,3\n",
            "enterprises : 1\n",
            "entities : 3\n",
            "entry : 3\n",
            "environments : 1\n",
            "event : 3\n",
            "events : 2,3\n",
            "evolution : 3\n",
            "example : 3\n",
            "extensible : 1\n",
            "external : 1\n",
            "feature : 2\n",
            "features : 2\n",
            "feeds : 1,3\n",
            "feel : 3\n",
            "folder : 2\n",
            "following : 1,2\n",
            "for : 3\n",
            "from : 1\n",
            "full : 2,3\n",
            "fully : 3\n",
            "fundamental : 2\n",
            "further : 3\n",
            "future : 1\n",
            "giving : 3\n",
            "global : 3\n",
            "go : 1,3\n",
            "goal : 1,2\n",
            "group : 2\n",
            "groups : 3\n",
            "guest : 3\n",
            "handheld : 3\n",
            "has : 1,2\n",
            "have : 3\n",
            "heavily : 1\n",
            "hibernate : 3\n",
            "hidden : 2\n",
            "high : 3\n",
            "higher : 1\n",
            "highly : 3\n",
            "how : 3\n",
            "html : 3\n",
            "ical : 1,3\n",
            "icalendar : 2\n",
            "identity : 3\n",
            "implemented : 3\n",
            "improving : 3\n",
            "in : 1,2,3\n",
            "including : 3\n",
            "independence : 3\n",
            "independent : 2\n",
            "information : 1,2\n",
            "initialization : 1\n",
            "installation : 3\n",
            "integration : 1\n",
            "interoperability : 1,2\n",
            "interoperable : 2\n",
            "into : 2\n",
            "introducing : 1\n",
            "is : 1,2,3\n",
            "it : 1,2\n",
            "itip : 2\n",
            "java : 2\n",
            "javascript : 3\n",
            "kept : 2\n",
            "later : 2\n",
            "level : 3\n",
            "lightning : 1,2\n",
            "locations : 1\n",
            "look : 3\n",
            "main : 2\n",
            "maintain : 3\n",
            "maintenance : 3\n",
            "many : 1,3\n",
            "mar : 1,3\n",
            "may : 1,2,3\n",
            "members : 1,3\n",
            "mode : 3\n",
            "model : 1\n",
            "models : 2\n",
            "moderating : 1\n",
            "modify : 3\n",
            "modular : 1\n",
            "more : 1,2\n",
            "mozilla : 1,2\n",
            "multiple : 3\n",
            "not : 3\n",
            "number : 3\n",
            "of : 1,2,3\n",
            "on : 1,3\n",
            "one : 3\n",
            "only : 2\n",
            "opensource : 1\n",
            "options : 3\n",
            "or : 1,2,3\n",
            "organizations : 3\n",
            "other : 1,2\n",
            "others : 3\n",
            "out : 3\n",
            "over : 3\n",
            "overview : 1\n",
            "own : 3\n",
            "owners : 3\n",
            "pending : 1\n",
            "performance : 3\n",
            "personal : 1,2\n",
            "portals : 1\n",
            "private : 2\n",
            "producing : 3\n",
            "production : 3\n",
            "provide : 3\n",
            "provides : 3\n",
            "public : 2\n",
            "publicly : 2\n",
            "queue : 3\n",
            "quickstart : 3\n",
            "range : 1\n",
            "reliability : 3\n",
            "resources : 1\n",
            "roles : 3\n",
            "root : 2\n",
            "rss : 3\n",
            "run : 2\n",
            "scheduling : 1\n",
            "schemes : 3\n",
            "see : 2,3\n",
            "separate : 2\n",
            "server : 1,2\n",
            "settings : 3\n",
            "setup : 3\n",
            "shared : 2\n",
            "sharing : 3\n",
            "shown : 2\n",
            "skinned : 3\n",
            "skins : 3\n",
            "space : 2\n",
            "spaces : 2\n",
            "standards : 2\n",
            "status : 3\n",
            "stored : 2\n",
            "strong : 1\n",
            "submission : 1,3\n",
            "submissions : 1,2\n",
            "submitting : 3\n",
            "subscribe : 2\n",
            "subscribed : 3\n",
            "subscription : 1\n",
            "such : 1\n",
            "suggest : 1,3\n",
            "suitable : 1,3\n",
            "suite : 3\n",
            "suites : 3\n",
            "suite” : 1\n",
            "super : 3\n",
            "support : 1,2,3\n",
            "supported : 2\n",
            "supporting : 1\n",
            "supports : 1,3\n",
            "synchronized : 3\n",
            "system : 1,2\n",
            "systems : 1,2,3\n",
            "table : 1,3\n",
            "tagged : 3\n",
            "that : 1\n",
            "the : 2,3\n",
            "their : 3\n",
            "theming : 3\n",
            "these : 1\n",
            "they : 3\n",
            "this : 1\n",
            "though : 1\n",
            "three : 3\n",
            "through : 3\n",
            "timezone : 1\n",
            "to : 1,2,3\n",
            "transactions : 3\n",
            "two : 2\n",
            "unless : 2\n",
            "used : 1,2\n",
            "user : 2\n",
            "users : 3\n",
            "uses : 3\n",
            "using : 3\n",
            "utilities : 1\n",
            "versions : 1\n",
            "video : 3\n",
            "view : 3\n",
            "viewable : 2\n",
            "views : 3\n",
            "visibility : 3\n",
            "vvenue : 2\n",
            "way : 2\n",
            "web : 1,3\n",
            "well : 3\n",
            "whatever : 3\n",
            "which : 2,3\n",
            "who : 3\n",
            "wide : 1\n",
            "will : 1,2\n",
            "with : 1,2,3\n",
            "work : 2\n",
            "written : 2\n",
            "xml : 3\n",
            "xslt : 3\n",
            "you : 1\n",
            "your : 1,3\n",
            "– : 1\n",
            "“calendar : 1\n",
            "• : 1,2,3\n"
          ]
        }
      ]
    }
  ]
}